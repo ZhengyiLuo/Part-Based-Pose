{
 "cells": [
  {
   "cell_type": "code",
   "execution_count": 1,
   "metadata": {},
   "outputs": [
    {
     "name": "stderr",
     "output_type": "stream",
     "text": [
      "No handlers could be found for logger \"trimesh\"\n"
     ]
    }
   ],
   "source": [
    "import argparse\n",
    "import os\n",
    "import sys\n",
    "\n",
    "import numpy as np\n",
    "import torch\n",
    "from torch.utils.data import DataLoader\n",
    "\n",
    "from pyquaternion import Quaternion\n",
    "\n",
    "from utils import get_colors, store_primitive_parameters, load_all_primitive_parameters\n",
    "from visualization_utils import points_on_sq_surface, save_params_as_ply \\\n",
    "\n",
    "from arguments import add_datatype_parameters, add_nn_parameters, \\\n",
    "    add_dataset_parameters, add_training_parameters, data_input_shape\n",
    "from output_logger import get_logger\n",
    "\n",
    "from pose_estimation.common.dataset import get_dataset_type, \\\n",
    "    compose_transformations\n",
    "from pose_estimation.common.model_factory import DatasetBuilder\n",
    "from pose_estimation.common.batch_provider import BatchProvider\n",
    "from pose_estimation.models import NetworkParameters, train_on_batch, \\\n",
    "    optimizer_factory\n",
    "from pose_estimation.loss_functions import matrix_loss\n",
    "from pose_estimation.datafactory import DataFactory\n",
    "\n",
    "# from mayavi import mlab\n",
    "\n",
    "import matplotlib.pyplot as plt\n",
    "import matplotlib.image as mpimg\n",
    "from mpl_toolkits.mplot3d import Axes3D  # noqa: F401 unused import\n",
    "\n",
    "import matplotlib.pyplot as plt\n",
    "import numpy as np"
   ]
  },
  {
   "cell_type": "code",
   "execution_count": 2,
   "metadata": {},
   "outputs": [
    {
     "name": "stdout",
     "output_type": "stream",
     "text": [
      "('resnet18', 11)\n",
      "('Loading...', '../trained_models/model_final_trained')\n",
      "('../superquadric_primitives/superquadric_primitives/chair1/', 'primitive_4.p')\n",
      "../superquadric_primitives/superquadric_primitives/chair1/primitive_4.p\n",
      "('../superquadric_primitives/superquadric_primitives/chair1/', 'primitive_10.p')\n",
      "../superquadric_primitives/superquadric_primitives/chair1/primitive_10.p\n",
      "('../superquadric_primitives/superquadric_primitives/chair1/', 'primitive_16.p')\n",
      "../superquadric_primitives/superquadric_primitives/chair1/primitive_16.p\n",
      "('../superquadric_primitives/superquadric_primitives/chair1/', 'primitive_17.p')\n",
      "../superquadric_primitives/superquadric_primitives/chair1/primitive_17.p\n",
      "('../superquadric_primitives/superquadric_primitives/chair1/', 'primitive_0.p')\n",
      "../superquadric_primitives/superquadric_primitives/chair1/primitive_0.p\n",
      "('../superquadric_primitives/superquadric_primitives/chair1/', 'primitive_3.p')\n",
      "../superquadric_primitives/superquadric_primitives/chair1/primitive_3.p\n",
      "('../superquadric_primitives/superquadric_primitives/chair1/', 'primitive_8.p')\n",
      "../superquadric_primitives/superquadric_primitives/chair1/primitive_8.p\n",
      "('../superquadric_primitives/superquadric_primitives/chair1/', 'primitive_7.p')\n",
      "../superquadric_primitives/superquadric_primitives/chair1/primitive_7.p\n",
      "('../superquadric_primitives/superquadric_primitives/chair1/', 'primitive_1.p')\n",
      "../superquadric_primitives/superquadric_primitives/chair1/primitive_1.p\n",
      "('../superquadric_primitives/superquadric_primitives/chair1/', 'primitive_12.p')\n",
      "../superquadric_primitives/superquadric_primitives/chair1/primitive_12.p\n",
      "('../superquadric_primitives/superquadric_primitives/chair1/', 'primitive_9.p')\n",
      "../superquadric_primitives/superquadric_primitives/chair1/primitive_9.p\n",
      "('../superquadric_primitives/superquadric_primitives/chair1/', 'primitive_14.p')\n",
      "../superquadric_primitives/superquadric_primitives/chair1/primitive_14.p\n",
      "('../superquadric_primitives/superquadric_primitives/chair1/', 'primitive_11.p')\n",
      "../superquadric_primitives/superquadric_primitives/chair1/primitive_11.p\n",
      "('../superquadric_primitives/superquadric_primitives/chair1/', 'primitive_5.p')\n",
      "../superquadric_primitives/superquadric_primitives/chair1/primitive_5.p\n",
      "('../superquadric_primitives/superquadric_primitives/chair1/', 'primitive_13.p')\n",
      "../superquadric_primitives/superquadric_primitives/chair1/primitive_13.p\n",
      "('../superquadric_primitives/superquadric_primitives/chair1/', 'primitive_2.p')\n",
      "../superquadric_primitives/superquadric_primitives/chair1/primitive_2.p\n",
      "('../superquadric_primitives/superquadric_primitives/chair1/', 'primitive_15.p')\n",
      "../superquadric_primitives/superquadric_primitives/chair1/primitive_15.p\n",
      "('../superquadric_primitives/superquadric_primitives/chair1/', 'primitive_6.p')\n",
      "../superquadric_primitives/superquadric_primitives/chair1/primitive_6.p\n",
      "('../superquadric_primitives/superquadric_primitives/chair1/', 11)\n"
     ]
    }
   ],
   "source": [
    "M = 11\n",
    "data_output_shape = (M, 7)\n",
    "architecture = \"resnet18\"\n",
    "device = torch.device(\"cuda:0\")\n",
    "# weight_file = \"../trained_models/model_10\"\n",
    "weight_file = \"../trained_models/model_final_trained\"\n",
    "primitives_directory = \"../superquadric_primitives/superquadric_primitives/chair1/\"\n",
    "dataset_directory = \"/hdd/zen/data/Reallite/chair_reallite1/chair_ycb/data/0000/\"\n",
    "# dataset_directory = \"/hdd/zen/data/Reallite/chair_data/Instances/chair1/train/\"\n",
    "prob_threshold = 0.5\n",
    "\n",
    "\n",
    "network_params = NetworkParameters(architecture, M, False)\n",
    "model = network_params.network(network_params)\n",
    "# Move model to device to be used\n",
    "if weight_file is not None:\n",
    "    # Load the model parameters of the previously trained model\n",
    "    model.load_state_dict(\n",
    "        torch.load(weight_file)\n",
    "    )\n",
    "    print(\"Loading...\", weight_file)\n",
    "model.to(device)\n",
    "model.eval()\n",
    "\n",
    "# Keep track of the files containing the parameters of each primitive\n",
    "primitives = load_all_primitive_parameters(primitives_directory, prob_threshold)\n",
    "gt_primitives = list(primitives)\n",
    "colors = get_colors(M)\n",
    "print(primitives_directory, len(primitives))"
   ]
  },
  {
   "cell_type": "code",
   "execution_count": null,
   "metadata": {},
   "outputs": [],
   "source": []
  },
  {
   "cell_type": "code",
   "execution_count": null,
   "metadata": {},
   "outputs": [],
   "source": []
  },
  {
   "cell_type": "code",
   "execution_count": null,
   "metadata": {},
   "outputs": [],
   "source": []
  },
  {
   "cell_type": "code",
   "execution_count": null,
   "metadata": {},
   "outputs": [],
   "source": []
  },
  {
   "cell_type": "code",
   "execution_count": 4,
   "metadata": {},
   "outputs": [
    {
     "name": "stdout",
     "output_type": "stream",
     "text": [
      "Namespace(architecture='resnet18', batch_size=32, data_type='image', dataset_type='instance', epochs=150, image_shape=(3, 224, 224), lr=0.0001, lr_epochs=[100, 200, 300], lr_factor=1.0, make_dense=False, model_tags=[], momentum=0.9, optimizer='Adam', steps_per_epoch=500)\n",
      "10000 datapoints in total ...\n"
     ]
    }
   ],
   "source": [
    "parser = argparse.ArgumentParser(\n",
    "        description=\"Do the forward pass and estimate a set of primitives\"\n",
    "    )\n",
    "add_nn_parameters(parser)\n",
    "add_dataset_parameters(parser)\n",
    "add_datatype_parameters(parser)\n",
    "add_training_parameters(parser)\n",
    "args = parser.parse_args(\"\")\n",
    "print(args)\n",
    "\n",
    "data_type = \"image\"\n",
    "data_factory = DataFactory(\n",
    "        data_type,\n",
    "        tuple([data_input_shape(args), data_output_shape])\n",
    "    )\n",
    "dataset = get_dataset_type(\"matrix_loss\")(\n",
    "        (DatasetBuilder()\n",
    "            .with_dataset(args.dataset_type)\n",
    "            .build(dataset_directory)),\n",
    "        data_factory,\n",
    "        transform=compose_transformations(data_type)\n",
    "    )"
   ]
  },
  {
   "cell_type": "code",
   "execution_count": 11,
   "metadata": {},
   "outputs": [
    {
     "data": {
      "image/png": "[encoded data removed]",
      "text/plain": [
       "<Figure size 432x288 with 1 Axes>"
      ]
     },
     "metadata": {},
     "output_type": "display_data"
    },
    {
     "name": "stdout",
     "output_type": "stream",
     "text": [
      "11\n"
     ]
    },
    {
     "data": {
      "image/png": "[encoded data removed]",
      "text/plain": [
       "<Figure size 432x288 with 1 Axes>"
      ]
     },
     "metadata": {},
     "output_type": "display_data"
    }
   ],
   "source": [
    "def display_primitives(primitive_list):\n",
    "    fig = plt.figure()\n",
    "    ax = fig.add_subplot(111, projection='3d')\n",
    "    transform_world_to_matplot = np.array([\n",
    "        [1,0,0],\n",
    "        [0,0,1],\n",
    "        [0,1,0]\n",
    "    ])\n",
    "    for prim_pts, color in primitive_list:\n",
    "        prim_pts = np.matmul(prim_pts.T, transform_world_to_matplot)\n",
    "        ax.scatter(prim_pts[:,0], prim_pts[:,1], prim_pts[:,2], c =color)\n",
    "    ax.set_xlabel('X Label')\n",
    "    ax.set_ylabel('Z Label')\n",
    "    ax.set_zlabel('Y Label')\n",
    "    \n",
    "    ax.set_xlim(-0.5, 0.5)\n",
    "    ax.set_ylim(0.5, -0.5)\n",
    "    ax.set_zlim(-0.5, 0.5)\n",
    "    plt.show()\n",
    "    \n",
    "\n",
    "    \n",
    "dataloader = DataLoader(dataset, batch_size=1, num_workers=4)\n",
    "total_runs = 0\n",
    "\n",
    "for sample in dataloader:\n",
    "    primitive_list = []\n",
    "    total_runs +=1\n",
    "    X, y_target = sample\n",
    "\n",
    "    # Show input image\n",
    "    img = X.numpy()[0]\n",
    "    img = np.transpose(img, (1,2,0))\n",
    "    img = img.reshape((224, 224, 3))\n",
    "    imgplot = plt.imshow(img)\n",
    "    plt.show()\n",
    "\n",
    "    X, y_target = X.to(device), y_target.to(device)\n",
    "\n",
    "    # Declare some variables\n",
    "    B = y_target.shape[0]  # batch size\n",
    "    M = y_target.shape[1]  # number of primitives\n",
    "    poses_target = y_target.view(B, M, 7).detach().cpu().numpy()\n",
    "    rotations_target = poses_target[:, :, :4].reshape(B, M, 4)[0]\n",
    "    translations_target = poses_target[:, :, 4:].reshape(B, M, 3)[0]\n",
    "\n",
    "    # # Do the forward pass\n",
    "    y_hat = model(X)\n",
    "    print(y_hat.shape)\n",
    "    translations = y_hat[0].detach().cpu().numpy().reshape(B, M, 3)[0]\n",
    "    rotations = y_hat[1].detach().cpu().numpy().reshape(B, M, 4)[0]\n",
    "    \n",
    "    \n",
    "    i = 0\n",
    "    for p in primitives:\n",
    "        # primitives[i][\"rotation\"] = rotations[i]\n",
    "        # primitives[i][\"location\"] = translations[i]\n",
    "\n",
    "        # gt_primitives[i][\"rotation\"] = rotations_target[i]\n",
    "        # gt_primitives[i][\"location\"] = translations_target[i]\n",
    "\n",
    "        x_tr, y_tr, z_tr, prim_pts =\\\n",
    "            points_on_sq_surface(\n",
    "                p[\"size\"][0],\n",
    "                p[\"size\"][1],\n",
    "                p[\"size\"][2],\n",
    "                p[\"shape\"][0],\n",
    "                p[\"shape\"][1],\n",
    "                Quaternion(rotations_target[i]).rotation_matrix.reshape(3, 3),\n",
    "                np.array(translations_target[i]).reshape(3, 1),\n",
    "#                 Quaternion(rotations[i]).rotation_matrix.reshape(3, 3),\n",
    "#                 np.array(translations[i]).reshape(3, 1),\n",
    "#                 Quaternion(p['rotation']).rotation_matrix, \n",
    "#                 np.array(p['location'])[:, None],\n",
    "                p[\"tapering\"][0],\n",
    "                p[\"tapering\"][1],\n",
    "                None,\n",
    "                None, \n",
    "                n_samples = 30\n",
    "            )\n",
    "        primitive_list.append((prim_pts, p['color']))\n",
    "        i += 1\n",
    "    print(len(primitive_list))\n",
    "    display_primitives(primitive_list)\n",
    "\n",
    "    if total_runs > 2:\n",
    "        break\n",
    "    break    \n"
   ]
  },
  {
   "cell_type": "code",
   "execution_count": null,
   "metadata": {},
   "outputs": [],
   "source": []
  },
  {
   "cell_type": "code",
   "execution_count": null,
   "metadata": {},
   "outputs": [],
   "source": []
  },
  {
   "cell_type": "code",
   "execution_count": null,
   "metadata": {},
   "outputs": [],
   "source": []
  },
  {
   "cell_type": "code",
   "execution_count": null,
   "metadata": {},
   "outputs": [],
   "source": []
  },
  {
   "cell_type": "code",
   "execution_count": null,
   "metadata": {},
   "outputs": [],
   "source": [
    "def convert_primitive_parms_to_mesh(primitive_params):\n",
    "    if not isinstance(primitive_params, dict):\n",
    "        raise Exception(\n",
    "            \"Expected dict and got {} as an input\"\n",
    "            .format(type(primitive_params))\n",
    "        )\n",
    "    # Extract the parameters of the primitives\n",
    "    a1, a2, a3 = primitive_params[\"size\"]\n",
    "    e1, e2 = primitive_params[\"shape\"]\n",
    "    Kx, Ky = primitive_params[\"tapering\"]\n",
    "    t = np.array(primitive_params[\"location\"]).reshape(3, 1)\n",
    "    R = Quaternion(primitive_params[\"rotation\"]).rotation_matrix.reshape(3, 3)\n",
    "    \n",
    "    R_obj = None\n",
    "    # if \"obj_pose\" in primitive_params:\n",
    "    #     R_obj = Quaternion(primitive_params[\"obj_pose\"]).rotation_matrix.reshape(3, 3)\n",
    "    \n",
    "    full_transform = None\n",
    "    # if \"transform\" in primitive_params:\n",
    "    #     full_transform = np.array(primitive_params[\"transform\"])\n",
    "\n",
    "    # Sample points on the surface of its mesh\n",
    "    _, _, _, V = points_on_sq_surface(a1, a2, a3, e1, e2, R, t, Kx, Ky, R_obj, full_transform)\n",
    "    assert V.shape[0] == 3\n",
    "\n",
    "    color = np.array(primitive_params[\"color\"])\n",
    "    color = (color*255).astype(np.uint8)\n",
    "\n",
    "    # Build a mesh object using the vertices loaded before and get its\n",
    "    # convex hull\n",
    "    m = trimesh.Trimesh(vertices=V.T).convex_hull\n",
    "    # Apply color\n",
    "    for i in range(len(m.faces)):\n",
    "        m.visual.face_colors[i] = color\n",
    "\n",
    "    return m\n",
    "\n",
    "\n",
    "from visualization_utils import *\n",
    "mesh = convert_primitive_parms_to_mesh(primitives[0])"
   ]
  },
  {
   "cell_type": "code",
   "execution_count": null,
   "metadata": {},
   "outputs": [],
   "source": []
  },
  {
   "cell_type": "code",
   "execution_count": null,
   "metadata": {},
   "outputs": [],
   "source": []
  }
 ],
 "metadata": {
  "kernelspec": {
   "display_name": "Python [conda env:reallite27]",
   "language": "python",
   "name": "conda-env-reallite27-py"
  },
  "language_info": {
   "codemirror_mode": {
    "name": "ipython",
    "version": 2
   },
   "file_extension": ".py",
   "mimetype": "text/x-python",
   "name": "python",
   "nbconvert_exporter": "python",
   "pygments_lexer": "ipython2",
   "version": "2.7.17"
  }
 },
 "nbformat": 4,
 "nbformat_minor": 2
}
